{
 "cells": [
  {
   "cell_type": "markdown",
   "id": "0857ce71-d1be-444e-9b84-722f48f26ebe",
   "metadata": {},
   "source": [
    "Problem 1.A\n",
    "\n",
    "The NN algorithm makes fewer mistakes, as it misidentifies 5 birds, and 3 people for a total of 8 errors, where the NA algorithm misidentifies 11 birds, and 1 person for a total of 12 errors.\n",
    "\n",
    "Problem 1.B\n",
    "\n",
    "The problem brings up a hypothetical scenario where the algorithm is used to lock the doors to the aviary when a bird gets to the doors. It would be more problematic to allow birds to escape, than inconvenience a person, and for this particular scenario the NA algorithm would be better for the zoo. This is because, while the algorithm makes more errors than the NN algorithm, and mistakes a lot of people for birds, it rarely mistakes a bird for a person, ensuring that the aviary will be able to prevent birds escaping more often than if they used the NN algorithm despite inconveniencing more people.\n",
    "\n",
    "Problem 1.C\n",
    "\n",
    "||True Bird|True Person|\n",
    "|----------|---------|-----------|\n",
    "|NN Bird|88.6875|10.3125|\n",
    "|NN Person|0.05769230769|0.9423076923|\n",
    "\n",
    "||True Bird|True Person|\n",
    "|----------|---------|-----------|\n",
    "|NA Bird|76.3125|22.6875|\n",
    "|NA Person|0.01923076923|0.9807692308|"
   ]
  },
  {
   "cell_type": "markdown",
   "id": "8b84caa4-e0c0-488e-ae88-ab76199028c6",
   "metadata": {},
   "source": [
    "Problem 2: Example 1\n",
    "\n",
    "The sum of two Gaussian distributions is the another Gaussian, with a mean of $\\mu$<sub>x</sub> + $\\mu$<sub>y</sub> where $\\mu$ is the mean, and x and y are the two distributions, and a variance of $\\sigma$<sup>2</sup><sub>x</sub> + $\\sigma$<sup>2</sup><sub>y</sub>"
   ]
  },
  {
   "cell_type": "markdown",
   "id": "d6eea1c9-8289-44df-ae98-a1c2321209a8",
   "metadata": {},
   "source": [
    "Problem 2: Example 2.a\n",
    "\n",
    "Sum of two Exponential distributions with equal rate parameters is an erlang distribution, with shape parameter 2 and the same rate parameter as the exponential. That Erlang distribution is a chi squared distribution with 2 degrees of freedom multiplied by 2 and the rate parameter.\n",
    "\n",
    "Problem 2: Example 2.b\n",
    "\n",
    "The ratio of 2 Gaussians with a unity variance, and zero mean follows the standard Cauchy distribution. The standard Cauchy distribution is equivalent to a Student's t distribution with 1 degrees of freedom, which is can be found from the ratio of 2 normal distributions.\n",
    "\n",
    "Problem 2: Example 2.C\n",
    "\n"
   ]
  }
 ],
 "metadata": {
  "kernelspec": {
   "display_name": "Python 3",
   "language": "python",
   "name": "python3"
  },
  "language_info": {
   "codemirror_mode": {
    "name": "ipython",
    "version": 3
   },
   "file_extension": ".py",
   "mimetype": "text/x-python",
   "name": "python",
   "nbconvert_exporter": "python",
   "pygments_lexer": "ipython3",
   "version": "3.8.8"
  }
 },
 "nbformat": 4,
 "nbformat_minor": 5
}
